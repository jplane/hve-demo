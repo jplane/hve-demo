{
 "cells": [
  {
   "cell_type": "code",
   "execution_count": null,
   "metadata": {},
   "outputs": [],
   "source": [
    "from dotenv import dotenv_values\n",
    "\n",
    "config = dotenv_values(\".env\")"
   ]
  },
  {
   "cell_type": "code",
   "execution_count": null,
   "metadata": {},
   "outputs": [],
   "source": [
    "import jsonref\n",
    "from azure.ai.projects import AIProjectClient\n",
    "from azure.identity import DefaultAzureCredential\n",
    "from azure.ai.projects.models import OpenApiTool, OpenApiAnonymousAuthDetails\n",
    "\n",
    "project_client = AIProjectClient.from_connection_string(\n",
    "    credential=DefaultAzureCredential(),\n",
    "    conn_str=config[\"FOUNDRY_CONNECTION_STRING\"],\n",
    ")\n",
    "\n",
    "with open('../../docs/api.json', 'r') as f:\n",
    "    openapi_spec = jsonref.loads(f.read())\n",
    "\n",
    "openapi = OpenApiTool(\n",
    "    name=\"comfortai\",\n",
    "    spec=openapi_spec,\n",
    "    description=\"HVAC Comfort Control Tool\",\n",
    "    auth=OpenApiAnonymousAuthDetails())\n",
    "\n",
    "agent_prompt = '''\n",
    "Use the comfortai tool to handle user requests regarding HVAC comfort control.\n",
    "\n",
    "After invoking the tool, send the following in a response:\n",
    "\n",
    "- a brief, friendly summary of what action you took to handle the request\n",
    "- a bullet point list of data you received from successful tool invocation\n",
    "- any error information you received from failed tool invocation\n",
    "'''\n",
    "\n",
    "project_client.agents.create_agent(\n",
    "    model=\"gpt-4o\",\n",
    "    name=\"ComfortAI Assistant\",\n",
    "    instructions=agent_prompt,\n",
    "    tools=openapi.definitions\n",
    ")\n"
   ]
  }
 ],
 "metadata": {
  "kernelspec": {
   "display_name": "venv",
   "language": "python",
   "name": "python3"
  },
  "language_info": {
   "codemirror_mode": {
    "name": "ipython",
    "version": 3
   },
   "file_extension": ".py",
   "mimetype": "text/x-python",
   "name": "python",
   "nbconvert_exporter": "python",
   "pygments_lexer": "ipython3",
   "version": "3.10.12"
  }
 },
 "nbformat": 4,
 "nbformat_minor": 2
}
