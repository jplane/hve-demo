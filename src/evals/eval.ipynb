{
 "cells": [
  {
   "cell_type": "code",
   "execution_count": null,
   "metadata": {},
   "outputs": [],
   "source": [
    "from dotenv import dotenv_values\n",
    "\n",
    "config = dotenv_values(\".env\")"
   ]
  },
  {
   "cell_type": "code",
   "execution_count": null,
   "metadata": {},
   "outputs": [],
   "source": [
    "from generator import FunctionCallGenerator\n",
    "from evaluator import FunctionCallEvaluator\n",
    "\n",
    "generator = FunctionCallGenerator(config)\n",
    "evaluator = FunctionCallEvaluator()"
   ]
  },
  {
   "cell_type": "code",
   "execution_count": null,
   "metadata": {},
   "outputs": [],
   "source": [
    "from azure.ai.ml import MLClient\n",
    "from azure.ai.ml.entities import Model\n",
    "from promptflow.client import PFClient\n",
    "from azure.identity import DefaultAzureCredential\n",
    "\n",
    "ml_client = MLClient(\n",
    "       subscription_id=config[\"AZURE_SUB_ID\"],\n",
    "       resource_group_name=config[\"AZURE_RESOURCE_GROUP\"],\n",
    "       workspace_name=config[\"AZURE_AI_PROJECT_NAME\"],\n",
    "       credential=DefaultAzureCredential()\n",
    ")\n",
    "\n",
    "pf_client = PFClient()\n",
    "local_path = \"function_call_eval\"\n",
    "pf_client.flows.save(entry=FunctionCallEvaluator, path=local_path)\n",
    "\n",
    "evaluator_name = \"FunctionCallEvaluator\"\n",
    "\n",
    "custom_evaluator = Model(\n",
    "    path=local_path,\n",
    "    name=evaluator_name,\n",
    "    description=\"A custom evaluator for function call accuracy.\",\n",
    ")\n",
    "\n",
    "ml_client.evaluators.create_or_update(custom_evaluator)"
   ]
  },
  {
   "cell_type": "code",
   "execution_count": null,
   "metadata": {},
   "outputs": [],
   "source": [
    "generator(\"gradually warm the house starting at 6am tomorrow\")"
   ]
  },
  {
   "cell_type": "code",
   "execution_count": null,
   "metadata": {},
   "outputs": [],
   "source": [
    "from azure.ai.evaluation import evaluate\n",
    "\n",
    "result = evaluate(\n",
    "    data = \"../../docs/dataset.jsonl\",\n",
    "    target = generator,\n",
    "    evaluators = {\n",
    "        \"function_call_compare\": evaluator\n",
    "    },\n",
    "    evaluator_config = {\n",
    "        \"default\": {\n",
    "            \"column_mapping\": {\n",
    "                \"intent\": \"${data.intent}\",\n",
    "                \"expected_calls\": \"${data.expected_calls}\",\n",
    "                \"actual_calls\": \"${target.actual_calls}\"\n",
    "            } \n",
    "        }\n",
    "    },\n",
    "    azure_ai_project = {\n",
    "        \"subscription_id\": config[\"AZURE_SUB_ID\"],\n",
    "        \"resource_group_name\": config[\"AZURE_RESOURCE_GROUP\"],\n",
    "        \"project_name\": config[\"AZURE_AI_PROJECT_NAME\"]\n",
    "    },\n",
    "    output_path=\"./output.json\"\n",
    ")\n",
    "\n",
    "result[\"studio_url\"]"
   ]
  }
 ],
 "metadata": {
  "kernelspec": {
   "display_name": "venv",
   "language": "python",
   "name": "python3"
  },
  "language_info": {
   "codemirror_mode": {
    "name": "ipython",
    "version": 3
   },
   "file_extension": ".py",
   "mimetype": "text/x-python",
   "name": "python",
   "nbconvert_exporter": "python",
   "pygments_lexer": "ipython3",
   "version": "3.10.12"
  }
 },
 "nbformat": 4,
 "nbformat_minor": 2
}
